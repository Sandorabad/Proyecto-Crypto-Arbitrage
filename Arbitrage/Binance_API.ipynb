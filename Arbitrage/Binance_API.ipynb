{
 "cells": [
  {
   "cell_type": "markdown",
   "id": "e62ce6a3-b211-40e6-8b80-9f1ab0b4ab28",
   "metadata": {},
   "source": [
    "## 1. SETUP"
   ]
  },
  {
   "cell_type": "code",
   "execution_count": 1,
   "id": "fdc96eea-a3cd-4463-9eaa-b3241de36c29",
   "metadata": {},
   "outputs": [],
   "source": [
    "apikey = '' #Correspondiente a binance\n",
    "secret = '' #Correspondinte a binance"
   ]
  },
  {
   "cell_type": "code",
   "execution_count": 2,
   "id": "c6304332-ac69-4783-87a9-934cad357006",
   "metadata": {
    "tags": []
   },
   "outputs": [],
   "source": [
    "# !pip install python-binance pandas mplfinance"
   ]
  },
  {
   "cell_type": "code",
   "execution_count": null,
   "id": "da405673-5d7b-40df-961f-5bdda7f9e4c3",
   "metadata": {},
   "outputs": [],
   "source": [
    "from binance import Client, ThreadedWebsocketManager, ThreadedDepthCacheManager\n",
    "import pandas as pd"
   ]
  },
  {
   "cell_type": "markdown",
   "id": "0ac828ce-2762-463f-93c1-4344b7c56c6f",
   "metadata": {},
   "source": [
    "## 2. Authenticate"
   ]
  },
  {
   "cell_type": "code",
   "execution_count": 4,
   "id": "81cfa525-89a4-4fc5-a897-7a84580c20f9",
   "metadata": {},
   "outputs": [],
   "source": [
    "client = Client(apikey, secret)"
   ]
  },
  {
   "cell_type": "markdown",
   "id": "53f1d80e-54ac-4dcf-bbfa-9eeeadcd8a7b",
   "metadata": {},
   "source": [
    "## 3. Get Tickers"
   ]
  },
  {
   "cell_type": "code",
   "execution_count": 22,
   "id": "2490493e-e816-4c76-94c5-6b6b5af1b052",
   "metadata": {
    "tags": []
   },
   "outputs": [
    {
     "data": {
      "text/plain": [
       "[{'symbol': 'ETHBTC', 'price': '0.07468300'},\n",
       " {'symbol': 'LTCBTC', 'price': '0.00355400'}]"
      ]
     },
     "execution_count": 22,
     "metadata": {},
     "output_type": "execute_result"
    }
   ],
   "source": [
    "tickers = client.get_all_tickers()\n",
    "tickers[0:2]"
   ]
  },
  {
   "cell_type": "code",
   "execution_count": 19,
   "id": "6e265a7a-c0d8-462d-bc5a-e187ce10076b",
   "metadata": {},
   "outputs": [
    {
     "data": {
      "text/html": [
       "<div>\n",
       "<style scoped>\n",
       "    .dataframe tbody tr th:only-of-type {\n",
       "        vertical-align: middle;\n",
       "    }\n",
       "\n",
       "    .dataframe tbody tr th {\n",
       "        vertical-align: top;\n",
       "    }\n",
       "\n",
       "    .dataframe thead th {\n",
       "        text-align: right;\n",
       "    }\n",
       "</style>\n",
       "<table border=\"1\" class=\"dataframe\">\n",
       "  <thead>\n",
       "    <tr style=\"text-align: right;\">\n",
       "      <th></th>\n",
       "      <th>symbol</th>\n",
       "      <th>price</th>\n",
       "    </tr>\n",
       "  </thead>\n",
       "  <tbody>\n",
       "    <tr>\n",
       "      <th>0</th>\n",
       "      <td>ETHBTC</td>\n",
       "      <td>0.07467600</td>\n",
       "    </tr>\n",
       "    <tr>\n",
       "      <th>1</th>\n",
       "      <td>LTCBTC</td>\n",
       "      <td>0.00355400</td>\n",
       "    </tr>\n",
       "    <tr>\n",
       "      <th>2</th>\n",
       "      <td>BNBBTC</td>\n",
       "      <td>0.01099100</td>\n",
       "    </tr>\n",
       "    <tr>\n",
       "      <th>3</th>\n",
       "      <td>NEOBTC</td>\n",
       "      <td>0.00068700</td>\n",
       "    </tr>\n",
       "    <tr>\n",
       "      <th>4</th>\n",
       "      <td>QTUMETH</td>\n",
       "      <td>0.00351600</td>\n",
       "    </tr>\n",
       "  </tbody>\n",
       "</table>\n",
       "</div>"
      ],
      "text/plain": [
       "    symbol       price\n",
       "0   ETHBTC  0.07467600\n",
       "1   LTCBTC  0.00355400\n",
       "2   BNBBTC  0.01099100\n",
       "3   NEOBTC  0.00068700\n",
       "4  QTUMETH  0.00351600"
      ]
     },
     "execution_count": 19,
     "metadata": {},
     "output_type": "execute_result"
    }
   ],
   "source": [
    "tickers_df = pd.DataFrame(tickers)\n",
    "tickers_df.head()"
   ]
  },
  {
   "cell_type": "code",
   "execution_count": 7,
   "id": "e74d0204-17d6-4ccb-a5d8-8c386cf2b346",
   "metadata": {},
   "outputs": [
    {
     "data": {
      "text/html": [
       "<div>\n",
       "<style scoped>\n",
       "    .dataframe tbody tr th:only-of-type {\n",
       "        vertical-align: middle;\n",
       "    }\n",
       "\n",
       "    .dataframe tbody tr th {\n",
       "        vertical-align: top;\n",
       "    }\n",
       "\n",
       "    .dataframe thead th {\n",
       "        text-align: right;\n",
       "    }\n",
       "</style>\n",
       "<table border=\"1\" class=\"dataframe\">\n",
       "  <thead>\n",
       "    <tr style=\"text-align: right;\">\n",
       "      <th></th>\n",
       "      <th>price</th>\n",
       "    </tr>\n",
       "    <tr>\n",
       "      <th>symbol</th>\n",
       "      <th></th>\n",
       "    </tr>\n",
       "  </thead>\n",
       "  <tbody>\n",
       "    <tr>\n",
       "      <th>ETHBTC</th>\n",
       "      <td>0.07469500</td>\n",
       "    </tr>\n",
       "    <tr>\n",
       "      <th>LTCBTC</th>\n",
       "      <td>0.00356000</td>\n",
       "    </tr>\n",
       "    <tr>\n",
       "      <th>BNBBTC</th>\n",
       "      <td>0.01097000</td>\n",
       "    </tr>\n",
       "    <tr>\n",
       "      <th>NEOBTC</th>\n",
       "      <td>0.00068800</td>\n",
       "    </tr>\n",
       "    <tr>\n",
       "      <th>QTUMETH</th>\n",
       "      <td>0.00354000</td>\n",
       "    </tr>\n",
       "  </tbody>\n",
       "</table>\n",
       "</div>"
      ],
      "text/plain": [
       "              price\n",
       "symbol             \n",
       "ETHBTC   0.07469500\n",
       "LTCBTC   0.00356000\n",
       "BNBBTC   0.01097000\n",
       "NEOBTC   0.00068800\n",
       "QTUMETH  0.00354000"
      ]
     },
     "execution_count": 7,
     "metadata": {},
     "output_type": "execute_result"
    }
   ],
   "source": [
    "tickers_df.set_index('symbol', inplace=True)\n",
    "tickers_df.head()"
   ]
  },
  {
   "cell_type": "code",
   "execution_count": 8,
   "id": "b33c6902-6412-4f58-950f-3f04cb90dde1",
   "metadata": {},
   "outputs": [
    {
     "data": {
      "text/plain": [
       "price    4088.39000000\n",
       "Name: ETHUSDT, dtype: object"
      ]
     },
     "execution_count": 8,
     "metadata": {},
     "output_type": "execute_result"
    }
   ],
   "source": [
    "tickers_df.loc['ETHUSDT']"
   ]
  },
  {
   "cell_type": "markdown",
   "id": "0e1cff3b-246d-467f-aff3-6dcbcc866ac9",
   "metadata": {},
   "source": [
    "## 4. Get Depth"
   ]
  },
  {
   "cell_type": "code",
   "execution_count": 9,
   "id": "44d484c2-c685-4cae-9ec9-758487fdedae",
   "metadata": {},
   "outputs": [],
   "source": [
    "depth = client.get_order_book(symbol='ETHUSDT')"
   ]
  },
  {
   "cell_type": "code",
   "execution_count": 10,
   "id": "96f5faf1-7ce0-45c3-ad01-9a4bd25885b9",
   "metadata": {},
   "outputs": [
    {
     "data": {
      "text/html": [
       "<div>\n",
       "<style scoped>\n",
       "    .dataframe tbody tr th:only-of-type {\n",
       "        vertical-align: middle;\n",
       "    }\n",
       "\n",
       "    .dataframe tbody tr th {\n",
       "        vertical-align: top;\n",
       "    }\n",
       "\n",
       "    .dataframe thead th {\n",
       "        text-align: right;\n",
       "    }\n",
       "</style>\n",
       "<table border=\"1\" class=\"dataframe\">\n",
       "  <thead>\n",
       "    <tr style=\"text-align: right;\">\n",
       "      <th></th>\n",
       "      <th>Price</th>\n",
       "      <th>Volumne</th>\n",
       "    </tr>\n",
       "  </thead>\n",
       "  <tbody>\n",
       "    <tr>\n",
       "      <th>0</th>\n",
       "      <td>4087.42000000</td>\n",
       "      <td>3.78460000</td>\n",
       "    </tr>\n",
       "    <tr>\n",
       "      <th>1</th>\n",
       "      <td>4087.48000000</td>\n",
       "      <td>0.47190000</td>\n",
       "    </tr>\n",
       "    <tr>\n",
       "      <th>2</th>\n",
       "      <td>4087.70000000</td>\n",
       "      <td>1.22240000</td>\n",
       "    </tr>\n",
       "    <tr>\n",
       "      <th>3</th>\n",
       "      <td>4087.76000000</td>\n",
       "      <td>0.27090000</td>\n",
       "    </tr>\n",
       "    <tr>\n",
       "      <th>4</th>\n",
       "      <td>4087.78000000</td>\n",
       "      <td>0.74510000</td>\n",
       "    </tr>\n",
       "  </tbody>\n",
       "</table>\n",
       "</div>"
      ],
      "text/plain": [
       "           Price     Volumne\n",
       "0  4087.42000000  3.78460000\n",
       "1  4087.48000000  0.47190000\n",
       "2  4087.70000000  1.22240000\n",
       "3  4087.76000000  0.27090000\n",
       "4  4087.78000000  0.74510000"
      ]
     },
     "execution_count": 10,
     "metadata": {},
     "output_type": "execute_result"
    }
   ],
   "source": [
    "depth_df = pd.DataFrame(depth['asks'])\n",
    "depth_df.columns = ['Price', 'Volumne']\n",
    "depth_df.head()"
   ]
  },
  {
   "cell_type": "markdown",
   "id": "d706f4e9-1e48-49d4-9a32-74d1f29c70fa",
   "metadata": {},
   "source": [
    "## 5. Get Historical Data"
   ]
  },
  {
   "cell_type": "code",
   "execution_count": 11,
   "id": "bd0bbbbd-1141-4af7-9dd0-ea9b54d085b8",
   "metadata": {},
   "outputs": [],
   "source": [
    "#[\n",
    "#    [\n",
    "#        1499040000000,      # Open time\n",
    "#        \"0.01634790\",       # Open\n",
    "#        \"0.80000000\",       # High\n",
    "#        \"0.01575800\",       # Low\n",
    "#        \"0.01577100\",       # Close\n",
    "#        \"148976.11427815\",  # Volume\n",
    "#        1499644799999,      # Close time\n",
    "#        \"2434.19055334\",    # Quote asset volume\n",
    "#        308,                # Number of trades\n",
    "#        \"1756.87402397\",    # Taker buy base asset volume\n",
    "#        \"28.46694368\",      # Taker buy quote asset volume\n",
    "#        \"17928899.62484339\" # Can be ignored\n",
    "#    ]\n",
    "#]"
   ]
  },
  {
   "cell_type": "code",
   "execution_count": 12,
   "id": "be68b7e8-b8c9-4f8b-baca-083792664e34",
   "metadata": {},
   "outputs": [],
   "source": [
    "historical = client.get_historical_klines('ETHBTC', Client.KLINE_INTERVAL_1DAY, '1 Jan 2011')"
   ]
  },
  {
   "cell_type": "code",
   "execution_count": 14,
   "id": "54b0596a-9f9a-4746-986b-67912425b4be",
   "metadata": {},
   "outputs": [
    {
     "data": {
      "text/html": [
       "<div>\n",
       "<style scoped>\n",
       "    .dataframe tbody tr th:only-of-type {\n",
       "        vertical-align: middle;\n",
       "    }\n",
       "\n",
       "    .dataframe tbody tr th {\n",
       "        vertical-align: top;\n",
       "    }\n",
       "\n",
       "    .dataframe thead th {\n",
       "        text-align: right;\n",
       "    }\n",
       "</style>\n",
       "<table border=\"1\" class=\"dataframe\">\n",
       "  <thead>\n",
       "    <tr style=\"text-align: right;\">\n",
       "      <th></th>\n",
       "      <th>0</th>\n",
       "      <th>1</th>\n",
       "      <th>2</th>\n",
       "      <th>3</th>\n",
       "      <th>4</th>\n",
       "      <th>5</th>\n",
       "      <th>6</th>\n",
       "      <th>7</th>\n",
       "      <th>8</th>\n",
       "      <th>9</th>\n",
       "      <th>10</th>\n",
       "      <th>11</th>\n",
       "    </tr>\n",
       "  </thead>\n",
       "  <tbody>\n",
       "    <tr>\n",
       "      <th>0</th>\n",
       "      <td>1499990400000</td>\n",
       "      <td>0.08000000</td>\n",
       "      <td>0.09103300</td>\n",
       "      <td>0.08000000</td>\n",
       "      <td>0.09099300</td>\n",
       "      <td>1942.05700000</td>\n",
       "      <td>1500076799999</td>\n",
       "      <td>170.23852396</td>\n",
       "      <td>1994</td>\n",
       "      <td>1076.40500000</td>\n",
       "      <td>94.82527222</td>\n",
       "      <td>22262.26697743</td>\n",
       "    </tr>\n",
       "    <tr>\n",
       "      <th>1</th>\n",
       "      <td>1500076800000</td>\n",
       "      <td>0.09099300</td>\n",
       "      <td>0.09369900</td>\n",
       "      <td>0.08712700</td>\n",
       "      <td>0.08763500</td>\n",
       "      <td>4013.06600000</td>\n",
       "      <td>1500163199999</td>\n",
       "      <td>363.03178785</td>\n",
       "      <td>4623</td>\n",
       "      <td>2250.31800000</td>\n",
       "      <td>203.54149755</td>\n",
       "      <td>22275.36801826</td>\n",
       "    </tr>\n",
       "    <tr>\n",
       "      <th>2</th>\n",
       "      <td>1500163200000</td>\n",
       "      <td>0.08750800</td>\n",
       "      <td>0.08763500</td>\n",
       "      <td>0.07559100</td>\n",
       "      <td>0.08224100</td>\n",
       "      <td>8904.15800000</td>\n",
       "      <td>1500249599999</td>\n",
       "      <td>722.21248196</td>\n",
       "      <td>8137</td>\n",
       "      <td>5557.57500000</td>\n",
       "      <td>450.34388688</td>\n",
       "      <td>22295.47295841</td>\n",
       "    </tr>\n",
       "    <tr>\n",
       "      <th>3</th>\n",
       "      <td>1500249600000</td>\n",
       "      <td>0.08236800</td>\n",
       "      <td>0.08839400</td>\n",
       "      <td>0.08169900</td>\n",
       "      <td>0.08753700</td>\n",
       "      <td>6650.93300000</td>\n",
       "      <td>1500335999999</td>\n",
       "      <td>568.24653804</td>\n",
       "      <td>7639</td>\n",
       "      <td>3859.48500000</td>\n",
       "      <td>329.66875309</td>\n",
       "      <td>22165.74281157</td>\n",
       "    </tr>\n",
       "    <tr>\n",
       "      <th>4</th>\n",
       "      <td>1500336000000</td>\n",
       "      <td>0.08783100</td>\n",
       "      <td>0.10906800</td>\n",
       "      <td>0.08477700</td>\n",
       "      <td>0.10773200</td>\n",
       "      <td>7245.74100000</td>\n",
       "      <td>1500422399999</td>\n",
       "      <td>674.49785037</td>\n",
       "      <td>8121</td>\n",
       "      <td>4202.05500000</td>\n",
       "      <td>393.11140275</td>\n",
       "      <td>22505.62469176</td>\n",
       "    </tr>\n",
       "  </tbody>\n",
       "</table>\n",
       "</div>"
      ],
      "text/plain": [
       "              0           1           2           3           4   \\\n",
       "0  1499990400000  0.08000000  0.09103300  0.08000000  0.09099300   \n",
       "1  1500076800000  0.09099300  0.09369900  0.08712700  0.08763500   \n",
       "2  1500163200000  0.08750800  0.08763500  0.07559100  0.08224100   \n",
       "3  1500249600000  0.08236800  0.08839400  0.08169900  0.08753700   \n",
       "4  1500336000000  0.08783100  0.10906800  0.08477700  0.10773200   \n",
       "\n",
       "              5              6             7     8              9   \\\n",
       "0  1942.05700000  1500076799999  170.23852396  1994  1076.40500000   \n",
       "1  4013.06600000  1500163199999  363.03178785  4623  2250.31800000   \n",
       "2  8904.15800000  1500249599999  722.21248196  8137  5557.57500000   \n",
       "3  6650.93300000  1500335999999  568.24653804  7639  3859.48500000   \n",
       "4  7245.74100000  1500422399999  674.49785037  8121  4202.05500000   \n",
       "\n",
       "             10              11  \n",
       "0   94.82527222  22262.26697743  \n",
       "1  203.54149755  22275.36801826  \n",
       "2  450.34388688  22295.47295841  \n",
       "3  329.66875309  22165.74281157  \n",
       "4  393.11140275  22505.62469176  "
      ]
     },
     "execution_count": 14,
     "metadata": {},
     "output_type": "execute_result"
    }
   ],
   "source": [
    "hist_df = pd.DataFrame(historical)\n",
    "hist_df.head()"
   ]
  },
  {
   "cell_type": "code",
   "execution_count": 15,
   "id": "f7e57ff6-8950-4d1d-a4c3-8bb4ccbcf740",
   "metadata": {},
   "outputs": [
    {
     "data": {
      "text/html": [
       "<div>\n",
       "<style scoped>\n",
       "    .dataframe tbody tr th:only-of-type {\n",
       "        vertical-align: middle;\n",
       "    }\n",
       "\n",
       "    .dataframe tbody tr th {\n",
       "        vertical-align: top;\n",
       "    }\n",
       "\n",
       "    .dataframe thead th {\n",
       "        text-align: right;\n",
       "    }\n",
       "</style>\n",
       "<table border=\"1\" class=\"dataframe\">\n",
       "  <thead>\n",
       "    <tr style=\"text-align: right;\">\n",
       "      <th></th>\n",
       "      <th>Open Time</th>\n",
       "      <th>Open</th>\n",
       "      <th>High</th>\n",
       "      <th>Low</th>\n",
       "      <th>Close</th>\n",
       "      <th>Volume</th>\n",
       "      <th>Close Time</th>\n",
       "      <th>Quote Asset Volume</th>\n",
       "      <th>Number of Trades</th>\n",
       "      <th>TB Base Volume</th>\n",
       "      <th>TB Quote Volume</th>\n",
       "      <th>Ignore</th>\n",
       "    </tr>\n",
       "  </thead>\n",
       "  <tbody>\n",
       "    <tr>\n",
       "      <th>0</th>\n",
       "      <td>1499990400000</td>\n",
       "      <td>0.08000000</td>\n",
       "      <td>0.09103300</td>\n",
       "      <td>0.08000000</td>\n",
       "      <td>0.09099300</td>\n",
       "      <td>1942.05700000</td>\n",
       "      <td>1500076799999</td>\n",
       "      <td>170.23852396</td>\n",
       "      <td>1994</td>\n",
       "      <td>1076.40500000</td>\n",
       "      <td>94.82527222</td>\n",
       "      <td>22262.26697743</td>\n",
       "    </tr>\n",
       "    <tr>\n",
       "      <th>1</th>\n",
       "      <td>1500076800000</td>\n",
       "      <td>0.09099300</td>\n",
       "      <td>0.09369900</td>\n",
       "      <td>0.08712700</td>\n",
       "      <td>0.08763500</td>\n",
       "      <td>4013.06600000</td>\n",
       "      <td>1500163199999</td>\n",
       "      <td>363.03178785</td>\n",
       "      <td>4623</td>\n",
       "      <td>2250.31800000</td>\n",
       "      <td>203.54149755</td>\n",
       "      <td>22275.36801826</td>\n",
       "    </tr>\n",
       "    <tr>\n",
       "      <th>2</th>\n",
       "      <td>1500163200000</td>\n",
       "      <td>0.08750800</td>\n",
       "      <td>0.08763500</td>\n",
       "      <td>0.07559100</td>\n",
       "      <td>0.08224100</td>\n",
       "      <td>8904.15800000</td>\n",
       "      <td>1500249599999</td>\n",
       "      <td>722.21248196</td>\n",
       "      <td>8137</td>\n",
       "      <td>5557.57500000</td>\n",
       "      <td>450.34388688</td>\n",
       "      <td>22295.47295841</td>\n",
       "    </tr>\n",
       "    <tr>\n",
       "      <th>3</th>\n",
       "      <td>1500249600000</td>\n",
       "      <td>0.08236800</td>\n",
       "      <td>0.08839400</td>\n",
       "      <td>0.08169900</td>\n",
       "      <td>0.08753700</td>\n",
       "      <td>6650.93300000</td>\n",
       "      <td>1500335999999</td>\n",
       "      <td>568.24653804</td>\n",
       "      <td>7639</td>\n",
       "      <td>3859.48500000</td>\n",
       "      <td>329.66875309</td>\n",
       "      <td>22165.74281157</td>\n",
       "    </tr>\n",
       "    <tr>\n",
       "      <th>4</th>\n",
       "      <td>1500336000000</td>\n",
       "      <td>0.08783100</td>\n",
       "      <td>0.10906800</td>\n",
       "      <td>0.08477700</td>\n",
       "      <td>0.10773200</td>\n",
       "      <td>7245.74100000</td>\n",
       "      <td>1500422399999</td>\n",
       "      <td>674.49785037</td>\n",
       "      <td>8121</td>\n",
       "      <td>4202.05500000</td>\n",
       "      <td>393.11140275</td>\n",
       "      <td>22505.62469176</td>\n",
       "    </tr>\n",
       "  </tbody>\n",
       "</table>\n",
       "</div>"
      ],
      "text/plain": [
       "       Open Time        Open        High         Low       Close  \\\n",
       "0  1499990400000  0.08000000  0.09103300  0.08000000  0.09099300   \n",
       "1  1500076800000  0.09099300  0.09369900  0.08712700  0.08763500   \n",
       "2  1500163200000  0.08750800  0.08763500  0.07559100  0.08224100   \n",
       "3  1500249600000  0.08236800  0.08839400  0.08169900  0.08753700   \n",
       "4  1500336000000  0.08783100  0.10906800  0.08477700  0.10773200   \n",
       "\n",
       "          Volume     Close Time Quote Asset Volume  Number of Trades  \\\n",
       "0  1942.05700000  1500076799999       170.23852396              1994   \n",
       "1  4013.06600000  1500163199999       363.03178785              4623   \n",
       "2  8904.15800000  1500249599999       722.21248196              8137   \n",
       "3  6650.93300000  1500335999999       568.24653804              7639   \n",
       "4  7245.74100000  1500422399999       674.49785037              8121   \n",
       "\n",
       "  TB Base Volume TB Quote Volume          Ignore  \n",
       "0  1076.40500000     94.82527222  22262.26697743  \n",
       "1  2250.31800000    203.54149755  22275.36801826  \n",
       "2  5557.57500000    450.34388688  22295.47295841  \n",
       "3  3859.48500000    329.66875309  22165.74281157  \n",
       "4  4202.05500000    393.11140275  22505.62469176  "
      ]
     },
     "execution_count": 15,
     "metadata": {},
     "output_type": "execute_result"
    }
   ],
   "source": [
    "hist_df.columns = ['Open Time', 'Open', 'High', 'Low', 'Close', 'Volume', 'Close Time', 'Quote Asset Volume', 'Number of Trades', 'TB Base Volume', 'TB Quote Volume', 'Ignore']\n",
    "hist_df.head()"
   ]
  },
  {
   "cell_type": "markdown",
   "id": "a8c53a97-8ad1-4018-9c87-d78a1d9f8477",
   "metadata": {},
   "source": [
    "## 6. Preprocess Historical Data"
   ]
  },
  {
   "cell_type": "code",
   "execution_count": 17,
   "id": "2c66681f-88d4-41b2-ace3-1f369e9c68dc",
   "metadata": {},
   "outputs": [],
   "source": [
    "hist_df['Open Time'] = pd.to_datetime(hist_df['Open Time']/1000, unit='s')\n",
    "hist_df['Close Time'] = pd.to_datetime(hist_df['Close Time']/1000, unit='s')"
   ]
  },
  {
   "cell_type": "code",
   "execution_count": 23,
   "id": "ea2991d2-d73e-44d1-93b8-3007143f737a",
   "metadata": {},
   "outputs": [],
   "source": [
    "numeric_columns = ['Open', 'High', 'Low', 'Close', 'Volume', 'Quote Asset Volume', 'TB Base Volume', 'TB Quote Volume']"
   ]
  },
  {
   "cell_type": "code",
   "execution_count": 24,
   "id": "bd5549ea-afbb-4395-ab7f-a496bc3a9a0d",
   "metadata": {},
   "outputs": [],
   "source": [
    "hist_df[numeric_columns] = hist_df[numeric_columns].apply(pd.to_numeric, axis=1)"
   ]
  },
  {
   "cell_type": "code",
   "execution_count": 26,
   "id": "77199a4e-f69a-496a-9186-28009055dd67",
   "metadata": {},
   "outputs": [
    {
     "data": {
      "text/plain": [
       "Open Time             datetime64[ns]\n",
       "Open                         float64\n",
       "High                         float64\n",
       "Low                          float64\n",
       "Close                        float64\n",
       "Volume                       float64\n",
       "Close Time            datetime64[ns]\n",
       "Quote Asset Volume           float64\n",
       "Number of Trades               int64\n",
       "TB Base Volume               float64\n",
       "TB Quote Volume              float64\n",
       "Ignore                        object\n",
       "dtype: object"
      ]
     },
     "execution_count": 26,
     "metadata": {},
     "output_type": "execute_result"
    }
   ],
   "source": [
    "hist_df.dtypes"
   ]
  },
  {
   "cell_type": "markdown",
   "id": "76efda46-d33f-4b76-af0e-f61843699c59",
   "metadata": {},
   "source": [
    "## 7. Visualization"
   ]
  },
  {
   "cell_type": "code",
   "execution_count": 27,
   "id": "47df44e3-ff55-4d21-8036-6a9c6e703778",
   "metadata": {},
   "outputs": [],
   "source": [
    "import mplfinance as mpf"
   ]
  },
  {
   "cell_type": "code",
   "execution_count": 37,
   "id": "dfcb03b0-d3b6-442d-a849-a1340a3b3af1",
   "metadata": {},
   "outputs": [
    {
     "data": {
      "image/png": "[encoded data removed]",
      "text/plain": [
       "<Figure size 800x575 with 4 Axes>"
      ]
     },
     "metadata": {},
     "output_type": "display_data"
    }
   ],
   "source": [
    "mpf.plot(hist_df.set_index('Close Time').tail(100),\n",
    "        type='candle', style='charles', volume=True,\n",
    "        title='ETHBTC',\n",
    "        mav=(10,20))"
   ]
  },
  {
   "cell_type": "code",
   "execution_count": null,
   "id": "0f69384c-a4d5-44ce-8bde-d67192cbd962",
   "metadata": {},
   "outputs": [],
   "source": []
  },
  {
   "cell_type": "code",
   "execution_count": null,
   "id": "38954880-e275-4efd-af08-dc26b4d5c180",
   "metadata": {},
   "outputs": [],
   "source": []
  },
  {
   "cell_type": "code",
   "execution_count": null,
   "id": "7a55a180-8870-4519-a3df-4d41cb5dda64",
   "metadata": {},
   "outputs": [],
   "source": []
  },
  {
   "cell_type": "code",
   "execution_count": null,
   "id": "8eb0b073-3043-4c23-ad6d-74c7af859abf",
   "metadata": {},
   "outputs": [],
   "source": []
  }
 ],
 "metadata": {
  "kernelspec": {
   "display_name": "arbitrage",
   "language": "python",
   "name": "arbitrage"
  },
  "language_info": {
   "codemirror_mode": {
    "name": "ipython",
    "version": 3
   },
   "file_extension": ".py",
   "mimetype": "text/x-python",
   "name": "python",
   "nbconvert_exporter": "python",
   "pygments_lexer": "ipython3",
   "version": "3.9.7"
  }
 },
 "nbformat": 4,
 "nbformat_minor": 5
}
